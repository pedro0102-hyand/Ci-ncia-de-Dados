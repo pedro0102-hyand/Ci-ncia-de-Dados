{
 "cells": [
  {
   "cell_type": "code",
   "execution_count": 5,
   "id": "9f6a781e-a646-4335-acf0-e0b2b67c58d3",
   "metadata": {},
   "outputs": [
    {
     "name": "stdout",
     "output_type": "stream",
     "text": [
      "Epoch 1/5\n",
      "938/938 [==============================] - 41s 42ms/step - loss: 0.1807 - accuracy: 0.9445 - val_loss: 0.0576 - val_accuracy: 0.9816\n",
      "Epoch 2/5\n",
      "938/938 [==============================] - 50s 54ms/step - loss: 0.0524 - accuracy: 0.9836 - val_loss: 0.0408 - val_accuracy: 0.9869\n",
      "Epoch 3/5\n",
      "938/938 [==============================] - 41s 43ms/step - loss: 0.0366 - accuracy: 0.9885 - val_loss: 0.0464 - val_accuracy: 0.9861\n",
      "Epoch 4/5\n",
      "938/938 [==============================] - 41s 44ms/step - loss: 0.0290 - accuracy: 0.9911 - val_loss: 0.0323 - val_accuracy: 0.9896\n",
      "Epoch 5/5\n",
      "938/938 [==============================] - 50s 53ms/step - loss: 0.0234 - accuracy: 0.9922 - val_loss: 0.0316 - val_accuracy: 0.9907\n",
      "313/313 [==============================] - 3s 9ms/step - loss: 0.0316 - accuracy: 0.9907\n",
      "1/1 [==============================] - 0s 291ms/step\n",
      "Previsoes\n",
      "[7 2 1 0 4]\n"
     ]
    }
   ],
   "source": [
    "import tensorflow as tf\n",
    "from tensorflow.keras import layers, models\n",
    "from tensorflow.keras.datasets import mnist\n",
    "from tensorflow.keras.utils import to_categorical\n",
    "(train_images,train_labels),(test_images,test_labels)=mnist.load_data()\n",
    "train_images=train_images.reshape((60000,28,28,1)).astype('float32')/255\n",
    "test_images=test_images.reshape((10000,28,28,1)).astype('float32')/255\n",
    "train_labels=to_categorical(train_labels)\n",
    "test_labels=to_categorical(test_labels)\n",
    "model=models.Sequential()\n",
    "model.add(layers.Conv2D(32,(3,3),activation='relu',input_shape=(28,28,1)))\n",
    "model.add(layers.MaxPooling2D((2,2)))\n",
    "model.add(layers.Conv2D(64,(3,3),activation='relu'))\n",
    "model.add(layers.MaxPooling2D((2,2)))\n",
    "model.add(layers.Conv2D(64,(3,3),activation='relu'))\n",
    "model.add(layers.Flatten())\n",
    "model.add(layers.Dense(64,activation='relu'))\n",
    "model.add(layers.Dense(10,activation='softmax'))\n",
    "model.compile(optimizer='adam',\n",
    "              loss='categorical_crossentropy',\n",
    "              metrics=['accuracy'])\n",
    "model.fit(train_images,train_labels,epochs=5,batch_size=64,validation_data=(test_images,test_labels))\n",
    "test_loss,test_acc=model.evaluate(test_images,test_labels)\n",
    "predictions=model.predict(test_images[:5])\n",
    "print('Previsoes')\n",
    "print(predictions.argmax(axis=1))"
   ]
  },
  {
   "cell_type": "code",
   "execution_count": null,
   "id": "99386196-fc8a-4a5a-9952-b39df9f8d70a",
   "metadata": {},
   "outputs": [],
   "source": []
  }
 ],
 "metadata": {
  "kernelspec": {
   "display_name": "Python 3 (ipykernel)",
   "language": "python",
   "name": "python3"
  },
  "language_info": {
   "codemirror_mode": {
    "name": "ipython",
    "version": 3
   },
   "file_extension": ".py",
   "mimetype": "text/x-python",
   "name": "python",
   "nbconvert_exporter": "python",
   "pygments_lexer": "ipython3",
   "version": "3.11.5"
  }
 },
 "nbformat": 4,
 "nbformat_minor": 5
}
