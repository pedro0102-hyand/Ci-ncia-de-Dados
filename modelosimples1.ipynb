{
 "cells": [
  {
   "cell_type": "code",
   "execution_count": 5,
   "id": "fe6576c4-879e-4afd-9cb1-4eff8d1cde25",
   "metadata": {
    "tags": []
   },
   "outputs": [
    {
     "name": "stdout",
     "output_type": "stream",
     "text": [
      "Random Forest:\n",
      "Relatorio de Classificacao:\n",
      "               precision    recall  f1-score   support\n",
      "\n",
      "           0       1.00      1.00      1.00        10\n",
      "           1       1.00      1.00      1.00         9\n",
      "           2       1.00      1.00      1.00        11\n",
      "\n",
      "    accuracy                           1.00        30\n",
      "   macro avg       1.00      1.00      1.00        30\n",
      "weighted avg       1.00      1.00      1.00        30\n",
      "\n",
      "\n",
      "\n",
      "\n",
      "\n",
      "Naive Bayes:\n",
      "Relatorio de Classificacao:\n",
      "               precision    recall  f1-score   support\n",
      "\n",
      "           0       1.00      1.00      1.00        10\n",
      "           1       1.00      1.00      1.00         9\n",
      "           2       1.00      1.00      1.00        11\n",
      "\n",
      "    accuracy                           1.00        30\n",
      "   macro avg       1.00      1.00      1.00        30\n",
      "weighted avg       1.00      1.00      1.00        30\n",
      "\n"
     ]
    }
   ],
   "source": [
    "import pandas as pd\n",
    "import numpy as np\n",
    "from sklearn.datasets import load_iris\n",
    "from sklearn.model_selection import train_test_split\n",
    "from sklearn.ensemble import RandomForestClassifier\n",
    "from sklearn.metrics import accuracy_score, classification_report\n",
    "from sklearn.naive_bayes import GaussianNB\n",
    "iris=load_iris()\n",
    "X=iris.data\n",
    "Y=iris.target\n",
    "X_treino,X_teste,Y_treino,Y_teste=train_test_split(X,Y,test_size=0.2,random_state=42)\n",
    "rf_model=RandomForestClassifier(n_estimators=100,random_state=42)\n",
    "rf_model.fit(X_treino,Y_treino)\n",
    "rf_previsoes=rf_model.predict(X_teste)\n",
    "nb_model=GaussianNB()\n",
    "nb_model.fit(X_treino,Y_treino)\n",
    "nb_previsoes=nb_model.predict(X_teste)\n",
    "print(\"Random Forest:\")\n",
    "print(\"Relatorio de Classificacao:\\n\",classification_report(Y_teste,rf_previsoes))\n",
    "print(\"\\n\")\n",
    "print(\"\\n\")\n",
    "print(\"Naive Bayes:\")\n",
    "print(\"Relatorio de Classificacao:\\n\",classification_report(Y_teste,nb_previsoes))"
   ]
  },
  {
   "cell_type": "code",
   "execution_count": null,
   "id": "0aee63f5-c32d-4b3d-8f3d-573dd72798a8",
   "metadata": {},
   "outputs": [],
   "source": []
  }
 ],
 "metadata": {
  "kernelspec": {
   "display_name": "Python 3 (ipykernel)",
   "language": "python",
   "name": "python3"
  },
  "language_info": {
   "codemirror_mode": {
    "name": "ipython",
    "version": 3
   },
   "file_extension": ".py",
   "mimetype": "text/x-python",
   "name": "python",
   "nbconvert_exporter": "python",
   "pygments_lexer": "ipython3",
   "version": "3.11.5"
  }
 },
 "nbformat": 4,
 "nbformat_minor": 5
}
