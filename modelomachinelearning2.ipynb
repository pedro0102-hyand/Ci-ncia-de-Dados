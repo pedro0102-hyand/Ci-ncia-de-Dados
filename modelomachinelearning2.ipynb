{
 "cells": [
  {
   "cell_type": "code",
   "execution_count": 11,
   "id": "982d3809-00a9-475b-b26e-7cede56b0db7",
   "metadata": {},
   "outputs": [
    {
     "name": "stdout",
     "output_type": "stream",
     "text": [
      "Epoch 1/10\n",
      "23/23 [==============================] - 1s 12ms/step - loss: 0.6971 - accuracy: 0.5319 - val_loss: 0.7165 - val_accuracy: 0.4250\n",
      "Epoch 2/10\n",
      "23/23 [==============================] - 0s 3ms/step - loss: 0.6875 - accuracy: 0.5500 - val_loss: 0.7170 - val_accuracy: 0.4500\n",
      "Epoch 3/10\n",
      "23/23 [==============================] - 0s 3ms/step - loss: 0.6828 - accuracy: 0.5819 - val_loss: 0.7234 - val_accuracy: 0.4750\n",
      "Epoch 4/10\n",
      "23/23 [==============================] - 0s 3ms/step - loss: 0.6815 - accuracy: 0.5819 - val_loss: 0.7157 - val_accuracy: 0.4750\n",
      "Epoch 5/10\n",
      "23/23 [==============================] - 0s 3ms/step - loss: 0.6791 - accuracy: 0.5944 - val_loss: 0.7179 - val_accuracy: 0.4625\n",
      "Epoch 6/10\n",
      "23/23 [==============================] - 0s 4ms/step - loss: 0.6775 - accuracy: 0.5917 - val_loss: 0.7180 - val_accuracy: 0.4875\n",
      "Epoch 7/10\n",
      "23/23 [==============================] - 0s 3ms/step - loss: 0.6777 - accuracy: 0.5861 - val_loss: 0.7192 - val_accuracy: 0.4875\n",
      "Epoch 8/10\n",
      "23/23 [==============================] - 0s 3ms/step - loss: 0.6778 - accuracy: 0.5944 - val_loss: 0.7180 - val_accuracy: 0.5250\n",
      "Epoch 9/10\n",
      "23/23 [==============================] - 0s 4ms/step - loss: 0.6752 - accuracy: 0.5958 - val_loss: 0.7180 - val_accuracy: 0.4875\n",
      "Epoch 10/10\n",
      "23/23 [==============================] - 0s 4ms/step - loss: 0.6740 - accuracy: 0.5958 - val_loss: 0.7225 - val_accuracy: 0.4875\n",
      "7/7 [==============================] - 0s 2ms/step\n",
      "Acuracia:0.465\n"
     ]
    }
   ],
   "source": [
    "import tensorflow as tf\n",
    "import numpy as np\n",
    "from tensorflow.keras import layers,models\n",
    "from tensorflow.keras.utils import to_categorical\n",
    "np.random.seed(42)\n",
    "data_size=1000\n",
    "idade=np.random.randint(18,65,data_size)\n",
    "salario=np.random.randint(20000,150000,data_size)\n",
    "pontuacao=np.random.randint(300,850,data_size)\n",
    "comp=np.random.randint(2,size=data_size)\n",
    "X=np.column_stack((idade,salario,pontuacao))\n",
    "Y=to_categorical(comp,num_classes=2)\n",
    "split_index=int(0.8* data_size)\n",
    "X_train,X_test=X[:split_index],X[split_index:]\n",
    "Y_train,Y_test=Y[:split_index],Y[split_index:]\n",
    "mean_values=X_train.mean(axis=0)\n",
    "std_dev_values=X_train.std(axis=0)\n",
    "X_train=(X_train-mean_values)/std_dev_values\n",
    "X_test=(X_test-mean_values)/std_dev_values\n",
    "model=models.Sequential()\n",
    "model.add(layers.Dense(64,activation='relu',input_shape=(X_train.shape[1],)))\n",
    "model.add(layers.Dense(32,activation='relu'))\n",
    "model.add(layers.Dense(2,activation='softmax'))\n",
    "model.compile(optimizer='adam',loss='categorical_crossentropy',metrics=['accuracy'])\n",
    "model.fit(X_train,Y_train,epochs=10,batch_size=32,validation_split=0.1)\n",
    "Y_pred=model.predict(X_test)\n",
    "Y_pred_classes=np.argmax(Y_pred,axis=1)\n",
    "Y_test_classes=np.argmax(Y_test,axis=1)\n",
    "accuracy=np.sum(Y_pred_classes==Y_test_classes)/ len(Y_test_classes)\n",
    "print(f'Acuracia:{accuracy}')"
   ]
  },
  {
   "cell_type": "code",
   "execution_count": null,
   "id": "58edf89e-2ba1-41fd-a848-6842dd26691d",
   "metadata": {},
   "outputs": [],
   "source": []
  }
 ],
 "metadata": {
  "kernelspec": {
   "display_name": "Python 3 (ipykernel)",
   "language": "python",
   "name": "python3"
  },
  "language_info": {
   "codemirror_mode": {
    "name": "ipython",
    "version": 3
   },
   "file_extension": ".py",
   "mimetype": "text/x-python",
   "name": "python",
   "nbconvert_exporter": "python",
   "pygments_lexer": "ipython3",
   "version": "3.11.5"
  }
 },
 "nbformat": 4,
 "nbformat_minor": 5
}
