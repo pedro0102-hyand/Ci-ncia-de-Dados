{
 "cells": [
  {
   "cell_type": "code",
   "execution_count": 1,
   "id": "b3afcef6-f3c7-42fd-aea9-e2b08e757c5f",
   "metadata": {
    "tags": []
   },
   "outputs": [
    {
     "name": "stdout",
     "output_type": "stream",
     "text": [
      "Populacao\n",
      "    ID  Valor\n",
      "0    1     39\n",
      "1    2     29\n",
      "2    3     50\n",
      "3    4     35\n",
      "4    5     12\n",
      "5    6     13\n",
      "6    7     66\n",
      "7    8     16\n",
      "8    9     23\n",
      "9   10     26\n",
      "10  11     28\n",
      "11  12     81\n",
      "12  13     19\n",
      "13  14     65\n",
      "14  15     97\n",
      "15  16     18\n",
      "16  17     61\n",
      "17  18     93\n",
      "18  19     98\n",
      "19  20     99\n"
     ]
    }
   ],
   "source": [
    "import numpy as np\n",
    "import pandas as pd\n",
    "dados=pd.DataFrame({'ID': range(1,21), 'Valor':np.random.randint(1,100,size=20)})\n",
    "print('Populacao')\n",
    "print(dados)"
   ]
  },
  {
   "cell_type": "code",
   "execution_count": 3,
   "id": "d4b632b7-c7c4-4dd1-ab4d-12149ef122ca",
   "metadata": {
    "tags": []
   },
   "outputs": [
    {
     "name": "stdout",
     "output_type": "stream",
     "text": [
      "    ID  Valor\n",
      "2    3     50\n",
      "7    8     16\n",
      "12  13     19\n",
      "17  18     93\n"
     ]
    }
   ],
   "source": [
    "tamanho_amostra=5\n",
    "ponto_partida=np.random.randint(1,6)\n",
    "indices_amostra=np.arange(ponto_partida,len(dados),step=tamanho_amostra)\n",
    "amostra_sistematica=dados.iloc[indices_amostra]\n",
    "print(amostra_sistematica)"
   ]
  },
  {
   "cell_type": "code",
   "execution_count": null,
   "id": "2c6db65e-72b6-4c98-806f-58099a4e1eda",
   "metadata": {},
   "outputs": [],
   "source": []
  }
 ],
 "metadata": {
  "kernelspec": {
   "display_name": "Python 3 (ipykernel)",
   "language": "python",
   "name": "python3"
  },
  "language_info": {
   "codemirror_mode": {
    "name": "ipython",
    "version": 3
   },
   "file_extension": ".py",
   "mimetype": "text/x-python",
   "name": "python",
   "nbconvert_exporter": "python",
   "pygments_lexer": "ipython3",
   "version": "3.11.5"
  }
 },
 "nbformat": 4,
 "nbformat_minor": 5
}
