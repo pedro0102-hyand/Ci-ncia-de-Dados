{
 "cells": [
  {
   "cell_type": "code",
   "execution_count": 3,
   "id": "a9b57028-87dc-4adf-8857-882e762582a6",
   "metadata": {
    "tags": []
   },
   "outputs": [
    {
     "name": "stdout",
     "output_type": "stream",
     "text": [
      "     Nome  Idade  Salário       Cargo\n",
      "0   Pedro     22     3400    Analista\n",
      "1   Maria     19     5100       Vigia\n",
      "2  Carlos     25     2650  Cozinheiro\n",
      "3   Carol     20     7500   Terapeuta\n",
      "4662.5\n",
      "Cargo\n",
      "Analista      22.0\n",
      "Cozinheiro    25.0\n",
      "Terapeuta     20.0\n",
      "Vigia         19.0\n",
      "Name: Idade, dtype: float64\n"
     ]
    }
   ],
   "source": [
    "import pandas as pd\n",
    "dados={ 'Nome': ['Pedro', 'Maria', 'Carlos', 'Carol'], 'Idade': [22, 19, 25, 20], 'Salário': [3400, 5100, 2650, 7500], 'Cargo':['Analista', 'Vigia', 'Cozinheiro', 'Terapeuta']}\n",
    "df=pd.DataFrame(dados)\n",
    "print(df)\n",
    "media_salarial=df['Salário'].mean()\n",
    "print(media_salarial)\n",
    "media_idade_cargo=df.groupby('Cargo')['Idade'].mean()\n",
    "print(media_idade_cargo)"
   ]
  },
  {
   "cell_type": "code",
   "execution_count": null,
   "id": "dcaa02d2-0da1-4166-9a3f-dc60feabd165",
   "metadata": {},
   "outputs": [],
   "source": []
  },
  {
   "cell_type": "code",
   "execution_count": null,
   "id": "74696fa9-e36c-4bea-8506-9bc328e9c344",
   "metadata": {},
   "outputs": [],
   "source": []
  }
 ],
 "metadata": {
  "kernelspec": {
   "display_name": "Python 3 (ipykernel)",
   "language": "python",
   "name": "python3"
  },
  "language_info": {
   "codemirror_mode": {
    "name": "ipython",
    "version": 3
   },
   "file_extension": ".py",
   "mimetype": "text/x-python",
   "name": "python",
   "nbconvert_exporter": "python",
   "pygments_lexer": "ipython3",
   "version": "3.11.5"
  }
 },
 "nbformat": 4,
 "nbformat_minor": 5
}
