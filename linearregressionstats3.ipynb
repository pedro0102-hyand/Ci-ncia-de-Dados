{
 "cells": [
  {
   "cell_type": "code",
   "execution_count": 4,
   "id": "9d5e84b3-8e62-4b34-864e-7541d598c23a",
   "metadata": {},
   "outputs": [
    {
     "name": "stdout",
     "output_type": "stream",
     "text": [
      "                            OLS Regression Results                            \n",
      "==============================================================================\n",
      "Dep. Variable:                      y   R-squared:                       0.460\n",
      "Model:                            OLS   Adj. R-squared:                  0.449\n",
      "Method:                 Least Squares   F-statistic:                     41.28\n",
      "Date:                Tue, 06 Feb 2024   Prob (F-statistic):           1.07e-13\n",
      "Time:                        23:33:58   Log-Likelihood:                -132.67\n",
      "No. Observations:                 100   AIC:                             271.3\n",
      "Df Residuals:                      97   BIC:                             279.2\n",
      "Df Model:                           2                                         \n",
      "Covariance Type:            nonrobust                                         \n",
      "==============================================================================\n",
      "                 coef    std err          t      P>|t|      [0.025      0.975]\n",
      "------------------------------------------------------------------------------\n",
      "const          1.3073      0.258      5.064      0.000       0.795       1.820\n",
      "x1             1.4484      0.322      4.500      0.000       0.810       2.087\n",
      "x2             2.7412      0.335      8.174      0.000       2.076       3.407\n",
      "==============================================================================\n",
      "Omnibus:                        1.130   Durbin-Watson:                   2.010\n",
      "Prob(Omnibus):                  0.568   Jarque-Bera (JB):                1.143\n",
      "Skew:                           0.247   Prob(JB):                        0.565\n",
      "Kurtosis:                       2.824   Cond. No.                         5.62\n",
      "==============================================================================\n",
      "\n",
      "Notes:\n",
      "[1] Standard Errors assume that the covariance matrix of the errors is correctly specified.\n"
     ]
    }
   ],
   "source": [
    "import numpy as np\n",
    "import statsmodels.api as sm\n",
    "np.random.seed(0)\n",
    "x1=np.random.rand(100)\n",
    "x2=np.random.rand(100)\n",
    "y=x1*2 + x2*3 + 1  +np.random.normal(0,1,100)\n",
    "X=sm.add_constant(np.column_stack((x1,x2)))\n",
    "model=sm.OLS(y,X).fit()\n",
    "print(model.summary())"
   ]
  },
  {
   "cell_type": "code",
   "execution_count": 2,
   "id": "e71de6c9-e441-460b-9844-438ae180db58",
   "metadata": {},
   "outputs": [
    {
     "name": "stdout",
     "output_type": "stream",
     "text": [
      "Collecting statsmodels\n",
      "  Downloading statsmodels-0.14.1-cp311-cp311-macosx_10_9_x86_64.whl.metadata (9.5 kB)\n",
      "Requirement already satisfied: numpy<2,>=1.18 in ./anaconda3/envs/tf/lib/python3.11/site-packages (from statsmodels) (1.23.5)\n",
      "Requirement already satisfied: scipy!=1.9.2,>=1.4 in ./anaconda3/envs/tf/lib/python3.11/site-packages (from statsmodels) (1.11.4)\n",
      "Collecting pandas!=2.1.0,>=1.0 (from statsmodels)\n",
      "  Downloading pandas-2.2.0-cp311-cp311-macosx_10_9_x86_64.whl.metadata (19 kB)\n",
      "Collecting patsy>=0.5.4 (from statsmodels)\n",
      "  Downloading patsy-0.5.6-py2.py3-none-any.whl.metadata (3.5 kB)\n",
      "Requirement already satisfied: packaging>=21.3 in ./anaconda3/envs/tf/lib/python3.11/site-packages (from statsmodels) (23.1)\n",
      "Requirement already satisfied: python-dateutil>=2.8.2 in ./anaconda3/envs/tf/lib/python3.11/site-packages (from pandas!=2.1.0,>=1.0->statsmodels) (2.8.2)\n",
      "Requirement already satisfied: pytz>=2020.1 in ./anaconda3/envs/tf/lib/python3.11/site-packages (from pandas!=2.1.0,>=1.0->statsmodels) (2023.3.post1)\n",
      "Collecting tzdata>=2022.7 (from pandas!=2.1.0,>=1.0->statsmodels)\n",
      "  Downloading tzdata-2023.4-py2.py3-none-any.whl.metadata (1.4 kB)\n",
      "Requirement already satisfied: six in ./anaconda3/envs/tf/lib/python3.11/site-packages (from patsy>=0.5.4->statsmodels) (1.16.0)\n",
      "Downloading statsmodels-0.14.1-cp311-cp311-macosx_10_9_x86_64.whl (10.5 MB)\n",
      "\u001b[2K   \u001b[90m━━━━━━━━━━━━━━━━━━━━━━━━━━━━━━━━━━━━━━━━\u001b[0m \u001b[32m10.5/10.5 MB\u001b[0m \u001b[31m6.3 MB/s\u001b[0m eta \u001b[36m0:00:00\u001b[0m00:01\u001b[0m0:01\u001b[0mm\n",
      "\u001b[?25hDownloading pandas-2.2.0-cp311-cp311-macosx_10_9_x86_64.whl (12.5 MB)\n",
      "\u001b[2K   \u001b[90m━━━━━━━━━━━━━━━━━━━━━━━━━━━━━━━━━━━━━━━━\u001b[0m \u001b[32m12.5/12.5 MB\u001b[0m \u001b[31m9.0 MB/s\u001b[0m eta \u001b[36m0:00:00\u001b[0m:00:01\u001b[0m00:01\u001b[0m\n",
      "\u001b[?25hDownloading patsy-0.5.6-py2.py3-none-any.whl (233 kB)\n",
      "\u001b[2K   \u001b[90m━━━━━━━━━━━━━━━━━━━━━━━━━━━━━━━━━━━━━━━━\u001b[0m \u001b[32m233.9/233.9 kB\u001b[0m \u001b[31m8.4 MB/s\u001b[0m eta \u001b[36m0:00:00\u001b[0m\n",
      "\u001b[?25hDownloading tzdata-2023.4-py2.py3-none-any.whl (346 kB)\n",
      "\u001b[2K   \u001b[90m━━━━━━━━━━━━━━━━━━━━━━━━━━━━━━━━━━━━━━━━\u001b[0m \u001b[32m346.6/346.6 kB\u001b[0m \u001b[31m11.4 MB/s\u001b[0m eta \u001b[36m0:00:00\u001b[0m\n",
      "\u001b[?25hInstalling collected packages: tzdata, patsy, pandas, statsmodels\n",
      "Successfully installed pandas-2.2.0 patsy-0.5.6 statsmodels-0.14.1 tzdata-2023.4\n",
      "Note: you may need to restart the kernel to use updated packages.\n"
     ]
    }
   ],
   "source": [
    "pip install statsmodels\n"
   ]
  },
  {
   "cell_type": "code",
   "execution_count": null,
   "id": "bc13bd84-10fa-4952-866b-ebbe057e3c37",
   "metadata": {},
   "outputs": [],
   "source": [
    "import statsmodels.api as sm"
   ]
  },
  {
   "cell_type": "code",
   "execution_count": null,
   "id": "6668391a-1c13-4f2f-b7a8-8183d41c68f7",
   "metadata": {},
   "outputs": [],
   "source": []
  }
 ],
 "metadata": {
  "kernelspec": {
   "display_name": "Python 3 (ipykernel)",
   "language": "python",
   "name": "python3"
  },
  "language_info": {
   "codemirror_mode": {
    "name": "ipython",
    "version": 3
   },
   "file_extension": ".py",
   "mimetype": "text/x-python",
   "name": "python",
   "nbconvert_exporter": "python",
   "pygments_lexer": "ipython3",
   "version": "3.11.5"
  }
 },
 "nbformat": 4,
 "nbformat_minor": 5
}
