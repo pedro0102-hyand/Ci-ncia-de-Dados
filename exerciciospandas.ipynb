{
 "cells": [
  {
   "cell_type": "code",
   "execution_count": 1,
   "id": "f287e76e-dbba-43c4-a87e-fd579652a96b",
   "metadata": {
    "tags": []
   },
   "outputs": [
    {
     "name": "stdout",
     "output_type": "stream",
     "text": [
      "2.0.3\n"
     ]
    }
   ],
   "source": [
    "import pandas as pd\n",
    "print(pd.__version__)"
   ]
  },
  {
   "cell_type": "code",
   "execution_count": 3,
   "id": "91f01bb4-976a-4353-8e80-4c1863de19e1",
   "metadata": {
    "tags": []
   },
   "outputs": [
    {
     "name": "stdout",
     "output_type": "stream",
     "text": [
      "a    0\n",
      "b    1\n",
      "c    2\n",
      "d    3\n",
      "e    4\n",
      "dtype: int64\n"
     ]
    }
   ],
   "source": [
    "import pandas as pd\n",
    "import numpy as np\n",
    "minhalista=list('abcdefghijklmnopqrstuvwxyz')\n",
    "meuarray=np.arange(26)\n",
    "meudici=dict(zip(minhalista,meuarray))\n",
    "s1=pd.Series(minhalista)\n",
    "s2=pd.Series(meuarray)\n",
    "s3=pd.Series(meudici)\n",
    "print(s3.head())"
   ]
  },
  {
   "cell_type": "code",
   "execution_count": 4,
   "id": "0343087a-e4cf-42e7-b850-1a6db10600f1",
   "metadata": {
    "tags": []
   },
   "outputs": [
    {
     "name": "stdout",
     "output_type": "stream",
     "text": [
      "    0   1\n",
      "0   a   0\n",
      "1   b   1\n",
      "2   c   2\n",
      "3   d   3\n",
      "4   e   4\n",
      "5   f   5\n",
      "6   g   6\n",
      "7   h   7\n",
      "8   i   8\n",
      "9   j   9\n",
      "10  k  10\n",
      "11  l  11\n",
      "12  m  12\n",
      "13  n  13\n",
      "14  o  14\n",
      "15  p  15\n",
      "16  q  16\n",
      "17  r  17\n",
      "18  s  18\n",
      "19  t  19\n",
      "20  u  20\n",
      "21  v  21\n",
      "22  w  22\n",
      "23  x  23\n",
      "24  y  24\n",
      "25  z  25\n"
     ]
    }
   ],
   "source": [
    "import pandas as pd\n",
    "s1=pd.Series(list('abcdefghijklmnopqrstuvwxyz'))\n",
    "s2=pd.Series(np.arange(26))\n",
    "df=pd.concat([s1,s2],axis=1)\n",
    "print(df)"
   ]
  },
  {
   "cell_type": "code",
   "execution_count": 6,
   "id": "11079b69-0ffa-4f7c-93e7-04cfde8f5fd2",
   "metadata": {
    "tags": []
   },
   "outputs": [
    {
     "data": {
      "text/plain": [
       "1    2\n",
       "4    5\n",
       "dtype: int64"
      ]
     },
     "execution_count": 6,
     "metadata": {},
     "output_type": "execute_result"
    }
   ],
   "source": [
    "import pandas as pd\n",
    "se1 = pd.Series([1,2,3,4,5])\n",
    "se2 = pd.Series ([4,3,8,9,1])\n",
    "se1[~se1.isin(se2)]"
   ]
  },
  {
   "cell_type": "code",
   "execution_count": 7,
   "id": "e2cf15a7-ffa3-4cfc-ae3d-e8cc778cf7fb",
   "metadata": {
    "tags": []
   },
   "outputs": [
    {
     "data": {
      "text/plain": [
       "array([ 0.53405217,  7.59017338, 11.39045122, 13.59083501, 18.31430801])"
      ]
     },
     "execution_count": 7,
     "metadata": {},
     "output_type": "execute_result"
    }
   ],
   "source": [
    "import pandas as pd\n",
    "import numpy as np\n",
    "ser=pd.Series(np.random.normal(10,5,25))\n",
    "np.percentile(ser,q=[0,25,50,75,100])"
   ]
  },
  {
   "cell_type": "code",
   "execution_count": 9,
   "id": "c75745de-1385-4086-80f9-72d025d57f07",
   "metadata": {
    "tags": []
   },
   "outputs": [
    {
     "data": {
      "text/plain": [
       "0     Apple\n",
       "1    Orange\n",
       "2     Money\n",
       "dtype: object"
      ]
     },
     "execution_count": 9,
     "metadata": {},
     "output_type": "execute_result"
    }
   ],
   "source": [
    "import pandas as pd\n",
    "ser=pd.Series([ 'Apple', 'Orange', 'Money', 'Python', 'Plan'])\n",
    "from collections import Counter\n",
    "mask = ser.map(lambda x : sum([Counter(x.lower()).get(i,0) for i in list ('aeiou')])>=2)\n",
    "ser[mask]"
   ]
  },
  {
   "cell_type": "code",
   "execution_count": 10,
   "id": "399b0904-1e3c-4b6f-8ed6-5915f9c23e47",
   "metadata": {
    "tags": []
   },
   "outputs": [
    {
     "data": {
      "text/plain": [
       "array([6])"
      ]
     },
     "execution_count": 10,
     "metadata": {},
     "output_type": "execute_result"
    }
   ],
   "source": [
    "import pandas as pd\n",
    "ser=pd.Series([2,3,4,5,10,11,15,10,7,2,3])\n",
    "dd=np.diff(np.sign(np.diff(ser)))\n",
    "pico=np.where(dd==-2)[0]+1\n",
    "pico"
   ]
  },
  {
   "cell_type": "code",
   "execution_count": null,
   "id": "761277ca-f1bd-4b41-b42a-9327317f7072",
   "metadata": {},
   "outputs": [],
   "source": []
  }
 ],
 "metadata": {
  "kernelspec": {
   "display_name": "Python 3 (ipykernel)",
   "language": "python",
   "name": "python3"
  },
  "language_info": {
   "codemirror_mode": {
    "name": "ipython",
    "version": 3
   },
   "file_extension": ".py",
   "mimetype": "text/x-python",
   "name": "python",
   "nbconvert_exporter": "python",
   "pygments_lexer": "ipython3",
   "version": "3.11.5"
  }
 },
 "nbformat": 4,
 "nbformat_minor": 5
}
