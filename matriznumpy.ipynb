{
 "cells": [
  {
   "cell_type": "code",
   "execution_count": 1,
   "id": "71e9370f-ee56-4016-9a29-f989794e64e5",
   "metadata": {
    "tags": []
   },
   "outputs": [
    {
     "name": "stdout",
     "output_type": "stream",
     "text": [
      "[[1.07017102 1.69035149 1.03825037]\n",
      " [0.23751687 0.48018305 1.45925591]\n",
      " [1.5406931  1.04648734 1.25530491]]\n",
      "[[1.08310063 1.28954831 1.29942728]\n",
      " [0.82993507 0.59098104 0.98848889]\n",
      " [0.65389146 1.04611181 0.69960317]]\n",
      "[[0.6279933  0.07822992 0.73133376]\n",
      " [0.74054562 0.11195204 0.55155829]\n",
      " [0.84938382 0.96064999 0.29981235]]\n",
      "[[0.44217772 0.15928695 0.80935934]\n",
      " [0.94980587 0.36823101 0.49492905]\n",
      " [0.18886654 0.49860592 0.95549256]]\n",
      "0.5407505511834588\n",
      "0.3001084412620699\n"
     ]
    }
   ],
   "source": [
    "import numpy as np\n",
    "matriz_a=np.random.rand(3,3)\n",
    "matriz_b=np.random.rand(3,3)\n",
    "soma=matriz_a + matriz_b\n",
    "print(soma)\n",
    "produto=np.dot(matriz_a , matriz_b)\n",
    "print(produto)\n",
    "transposta_a=np.transpose(matriz_a)\n",
    "transposta_b=np.transpose(matriz_b)\n",
    "print(transposta_a)\n",
    "print(transposta_b)\n",
    "media_b=np.mean(matriz_b)\n",
    "desvio_a = np.std(matriz_a)\n",
    "print(media_b)\n",
    "print(desvio_a)"
   ]
  },
  {
   "cell_type": "code",
   "execution_count": null,
   "id": "3a70325e-9d06-4de8-bd56-fa3a4454444a",
   "metadata": {},
   "outputs": [],
   "source": []
  },
  {
   "cell_type": "code",
   "execution_count": null,
   "id": "058fe6f3-fb6f-4798-894f-0cc03861cdb6",
   "metadata": {},
   "outputs": [],
   "source": []
  }
 ],
 "metadata": {
  "kernelspec": {
   "display_name": "Python 3 (ipykernel)",
   "language": "python",
   "name": "python3"
  },
  "language_info": {
   "codemirror_mode": {
    "name": "ipython",
    "version": 3
   },
   "file_extension": ".py",
   "mimetype": "text/x-python",
   "name": "python",
   "nbconvert_exporter": "python",
   "pygments_lexer": "ipython3",
   "version": "3.11.5"
  }
 },
 "nbformat": 4,
 "nbformat_minor": 5
}
